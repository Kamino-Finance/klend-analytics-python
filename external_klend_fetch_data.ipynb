{
 "cells": [
  {
   "cell_type": "markdown",
   "id": "f1596494-605c-4bf4-84f2-4e4cad31d408",
   "metadata": {},
   "source": [
    "### NOTE: you need to set your SOLANARPC_HTTP_URI env var"
   ]
  },
  {
   "cell_type": "code",
   "execution_count": 1,
   "id": "5f6b12fb-6796-4774-8d95-9f313f87da9a",
   "metadata": {
    "tags": []
   },
   "outputs": [],
   "source": [
    "%load_ext autoreload\n",
    "%reload_ext autoreload\n",
    "%autoreload 2"
   ]
  },
  {
   "cell_type": "code",
   "execution_count": 2,
   "id": "42462324-2c1c-4f2b-82d6-83224a55ed66",
   "metadata": {
    "tags": []
   },
   "outputs": [],
   "source": [
    "from external_klend_utils import *\n",
    "import time\n",
    "import os\n",
    "from pprint import pprint"
   ]
  },
  {
   "cell_type": "markdown",
   "id": "0185045c-cb10-453b-8cfa-976165796dd0",
   "metadata": {},
   "source": [
    "# Fetch Current Loan Data from On-Chain"
   ]
  },
  {
   "cell_type": "code",
   "execution_count": 4,
   "id": "c3998c0f-06a1-4fbe-9713-5b882d7a7f13",
   "metadata": {
    "tags": []
   },
   "outputs": [],
   "source": [
    "async def get_all_market_data(market):\n",
    "    start_time = time.time()\n",
    "    \n",
    "    uri = os.getenv(\"SOLANARPC_HTTP_URI\")\n",
    "\n",
    "    # make kamino_lend_program\n",
    "    kamino_lend_program = get_kamino_lend_program(uri)\n",
    "\n",
    "    reserves_configs = await get_reserves_configs(kamino_lend_program, market)\n",
    "    elevation_group_dict = await get_elevation_group_dict(market)\n",
    "    loan_metrics_df = await get_loans_metrics(reserves_configs, elevation_group_dict, lending_market=market)\n",
    "\n",
    "    time_taken = time.time() - start_time\n",
    "    logging.info(f\"time_taken = {time_taken:.2f}s\")\n",
    "    \n",
    "    print(f\"Number of reserves = {len(reserves_configs)}\")\n",
    "    print(f\"Number of elevation groups = {len(elevation_group_dict)}\")\n",
    "    print(f\"Number of loans = {loan_metrics_df.shape[0]:,}\")\n",
    "    return reserves_configs, elevation_group_dict,loan_metrics_df\n",
    "\n",
    "\n",
    "    \n",
    "uri = os.getenv(\"SOLANARPC_HTTP_URI\")\n",
    "# make kamino_lend_program\n",
    "kamino_lend_program = get_kamino_lend_program(uri)\n"
   ]
  },
  {
   "cell_type": "code",
   "execution_count": 5,
   "id": "a50659e0",
   "metadata": {},
   "outputs": [],
   "source": [
    "obligations = await get_all_obligations(\n",
    "    kamino_lend_program,\n",
    "    LENDING_MARKETS[\"ethena_market\"]\n",
    ")"
   ]
  },
  {
   "cell_type": "code",
   "execution_count": null,
   "id": "3a655d20",
   "metadata": {},
   "outputs": [],
   "source": []
  },
  {
   "cell_type": "code",
   "execution_count": 11,
   "id": "71dcbc07",
   "metadata": {},
   "outputs": [
    {
     "name": "stdout",
     "output_type": "stream",
     "text": [
      "inside\n"
     ]
    }
   ],
   "source": []
  },
  {
   "cell_type": "code",
   "execution_count": 15,
   "id": "1c091a77",
   "metadata": {},
   "outputs": [],
   "source": [
    "def object_to_dict(obj):\n",
    "    \"\"\"\n",
    "    Exploding objects\n",
    "    \"\"\"\n",
    "    print(\"inside\")\n",
    "    if isinstance(obj, list):\n",
    "        print(\"here\")\n",
    "        return [object_to_dict(item) for item in obj]\n",
    "    elif hasattr(obj, \"__dict__\"):\n",
    "        result = {}\n",
    "        for key, val in obj.__dict__.items():\n",
    "            # Fixing this to not contain all of the padded values\n",
    "            # some padding starts with padding others are config_padding etc\n",
    "            print(f\"key: {key}\")\n",
    "            if \"padding\" in str(key):\n",
    "                print(\"skipping\")\n",
    "                continue\n",
    "            element = []\n",
    "            if isinstance(val, list):\n",
    "                print(\"not skipping\")\n",
    "                for item in val:\n",
    "                    if hasattr(item, \"__dict__\"):\n",
    "                        element.append(object_to_dict(item))\n",
    "                    else:\n",
    "                        element.append(item)\n",
    "                result[key] = element\n",
    "            else:\n",
    "                if hasattr(val, \"__dict__\"):\n",
    "                    result[key] = object_to_dict(val)\n",
    "                else:\n",
    "                    result[key] = val\n",
    "        return result\n",
    "    else:\n",
    "        return obj"
   ]
  },
  {
   "cell_type": "code",
   "execution_count": 16,
   "id": "7971a026",
   "metadata": {},
   "outputs": [
    {
     "name": "stdout",
     "output_type": "stream",
     "text": [
      "inside\n"
     ]
    }
   ],
   "source": [
    "dict = object_to_dict(obligations)"
   ]
  },
  {
   "cell_type": "code",
   "execution_count": null,
   "id": "cfffb980",
   "metadata": {},
   "outputs": [],
   "source": [
    "dic[Pubkey.from_string(\"Hgd2j52r71SFDyHZB3DjMPccb31yc3wes7JbUaGpQxBi\")]"
   ]
  },
  {
   "cell_type": "code",
   "execution_count": null,
   "id": "166460a2",
   "metadata": {},
   "outputs": [],
   "source": [
    "kamino_client = KaminoClient(os.getenv(\"SOLANARPC_HTTP_URI\"))\n",
    "lending_market_object = await kamino_client.fetch_with_retries(\n",
    "    LendingMarket.fetch, Pubkey.from_string(\"BJnbcRHqvppTyGesLzWASGKnmnF1wq9jZu6ExrjT7wvF\"), extra=None\n",
    ")\n"
   ]
  },
  {
   "cell_type": "code",
   "execution_count": null,
   "id": "8b4fa38e",
   "metadata": {},
   "outputs": [],
   "source": [
    "lending_market_object.elevation_groups"
   ]
  },
  {
   "cell_type": "code",
   "execution_count": null,
   "id": "d24ca7ff",
   "metadata": {},
   "outputs": [],
   "source": [
    "uri = os.getenv(\"SOLANARPC_HTTP_URI\")\n",
    "# make kamino_lend_program\n",
    "kamino_lend_program = get_kamino_lend_program(uri)\n",
    "\n",
    "elevation = await get_elevation_group_dict( \"7u3HeHxYDLhnCoErrtycNokbQYbWGzLs6JSDqGAv5PfF\")"
   ]
  },
  {
   "cell_type": "code",
   "execution_count": null,
   "id": "9c2040e6",
   "metadata": {},
   "outputs": [],
   "source": [
    "elevation"
   ]
  },
  {
   "cell_type": "code",
   "execution_count": null,
   "id": "1384f1d9",
   "metadata": {},
   "outputs": [],
   "source": [
    "elevation"
   ]
  },
  {
   "cell_type": "code",
   "execution_count": null,
   "id": "8e2dc002",
   "metadata": {},
   "outputs": [],
   "source": [
    "reserves_configs = await get_reserves_configs(kamino_lend_program, \"7u3HeHxYDLhnCoErrtycNokbQYbWGzLs6JSDqGAv5PfF\")"
   ]
  },
  {
   "cell_type": "code",
   "execution_count": null,
   "id": "51ee462b",
   "metadata": {},
   "outputs": [],
   "source": []
  },
  {
   "cell_type": "code",
   "execution_count": null,
   "id": "3e0822f1",
   "metadata": {},
   "outputs": [],
   "source": [
    "reserves_configs"
   ]
  },
  {
   "cell_type": "code",
   "execution_count": null,
   "id": "3edf3d90",
   "metadata": {},
   "outputs": [],
   "source": [
    "reserves_configs['EPjFWdd5AufqSSqeM2qN1xzybapC8G4wEGGkZwyTDt1v']['account']['config']"
   ]
  },
  {
   "cell_type": "code",
   "execution_count": null,
   "id": "4145e6f9",
   "metadata": {},
   "outputs": [],
   "source": [
    "elevation"
   ]
  },
  {
   "cell_type": "raw",
   "id": "5ae4db6e-10ab-4930-b844-6ac4bf2298eb",
   "metadata": {
    "vscode": {
     "languageId": "raw"
    }
   },
   "source": [
    "# see external_klend_utils.py\n",
    "# LENDING_MARKETS = {\n",
    "#     \"main_market\": \"7u3HeHxYDLhnCoErrtycNokbQYbWGzLs6JSDqGAv5PfF\",\n",
    "#     \"jlp_market\": \"DxXdAyU3kCjnyggvHmY5nAwg5cRbbmdyX3npfDMjjMek\",\n",
    "#     \"altcoin_market\": \"ByYiZxp8QrdN9qbdtaAiePN8AAr3qvTPppNJDpf5DVJ5\",\n",
    "#     \"ethena_market\": \"BJnbcRHqvppTyGesLzWASGKnmnF1wq9jZu6ExrjT7wvF\"\n",
    "# }"
   ]
  },
  {
   "cell_type": "raw",
   "id": "0e6ed8c6",
   "metadata": {
    "vscode": {
     "languageId": "raw"
    }
   },
   "source": [
    "main_market_addr = \"7u3HeHxYDLhnCoErrtycNokbQYbWGzLs6JSDqGAv5PfF\""
   ]
  },
  {
   "cell_type": "raw",
   "id": "bd9fffe6",
   "metadata": {
    "vscode": {
     "languageId": "raw"
    }
   },
   "source": [
    "reserves_configs"
   ]
  },
  {
   "cell_type": "raw",
   "id": "439466e5",
   "metadata": {
    "vscode": {
     "languageId": "raw"
    }
   },
   "source": [
    "reserves_configs"
   ]
  },
  {
   "cell_type": "raw",
   "id": "0d21af8a",
   "metadata": {
    "vscode": {
     "languageId": "raw"
    }
   },
   "source": []
  },
  {
   "cell_type": "code",
   "execution_count": null,
   "id": "33f657db-9154-4e54-8dfa-1350658f5ede",
   "metadata": {
    "tags": []
   },
   "outputs": [],
   "source": [
    "lending_market = LENDING_MARKETS['ethena_market']\n",
    "reserves_configs, elevation_group_dict,loan_metrics_df = await get_all_market_data(lending_market)"
   ]
  },
  {
   "cell_type": "code",
   "execution_count": null,
   "id": "081ce48b",
   "metadata": {},
   "outputs": [],
   "source": [
    "for x in loan_metrics_df.keys():\n",
    "    print(x)"
   ]
  },
  {
   "cell_type": "code",
   "execution_count": null,
   "id": "6c01d90a",
   "metadata": {},
   "outputs": [],
   "source": [
    "main_market_addr = \"7u3HeHxYDLhnCoErrtycNokbQYbWGzLs6JSDqGAv5PfF\""
   ]
  },
  {
   "cell_type": "code",
   "execution_count": null,
   "id": "f430d14c",
   "metadata": {},
   "outputs": [],
   "source": [
    "elevation_groups = await get_elevation_group_dict(LENDING_MARKETS['main_market'])"
   ]
  },
  {
   "cell_type": "code",
   "execution_count": null,
   "id": "77275850",
   "metadata": {},
   "outputs": [],
   "source": [
    "LENDING_MARKETS['main_market']"
   ]
  },
  {
   "cell_type": "code",
   "execution_count": null,
   "id": "5a5c3251",
   "metadata": {},
   "outputs": [],
   "source": [
    "elevation_groups"
   ]
  },
  {
   "cell_type": "code",
   "execution_count": null,
   "id": "42433068",
   "metadata": {},
   "outputs": [],
   "source": [
    "reserves_configs['J1toso1uCk3RLmjorhTtrVwY9HJ7X8V9yYac6Y7kGCPn']['account']['config']\n"
   ]
  },
  {
   "cell_type": "code",
   "execution_count": null,
   "id": "abed534e",
   "metadata": {},
   "outputs": [],
   "source": [
    "kamino_client = KaminoClient(os.getenv(\"SOLANARPC_HTTP_URI\"))\n",
    "lending_market_object = await kamino_client.fetch_with_retries(\n",
    "    LendingMarket.fetch, Pubkey.from_string(LENDING_MARKETS['main_market']), extra=None\n",
    ")"
   ]
  },
  {
   "cell_type": "code",
   "execution_count": null,
   "id": "1ae541c5",
   "metadata": {},
   "outputs": [],
   "source": [
    "Pubkey"
   ]
  },
  {
   "cell_type": "code",
   "execution_count": null,
   "id": "c4f7991c",
   "metadata": {},
   "outputs": [],
   "source": [
    "await LendingMarket.fetch(client, Pubkey.from_string(main_market_addr))"
   ]
  },
  {
   "cell_type": "code",
   "execution_count": null,
   "id": "19f4b1ed",
   "metadata": {},
   "outputs": [],
   "source": [
    "    \n",
    "uri = os.getenv(\"SOLANARPC_HTTP_URI\")\n",
    "# make kamino_lend_program\n",
    "kamino_lend_program = get_kamino_lend_program(uri)\n",
    "\n",
    "reserves = await get_reserves_configs(kamino_lend_program, main_market_addr)"
   ]
  },
  {
   "cell_type": "code",
   "execution_count": null,
   "id": "d43bee3e",
   "metadata": {},
   "outputs": [],
   "source": [
    "\n",
    "uri = os.getenv(\"SOLANARPC_HTTP_URI\")\n",
    "\n",
    "    # make kamino_lend_program\n",
    "kamino_lend_program = get_kamino_lend_program(uri)\n",
    "reserves_configs = await get_reserves_configs(kamino_lend_program, \"7u3HeHxYDLhnCoErrtycNokbQYbWGzLs6JSDqGAv5PfF\")"
   ]
  },
  {
   "cell_type": "code",
   "execution_count": null,
   "id": "32eb4ecf",
   "metadata": {},
   "outputs": [],
   "source": [
    "print(reserves_configs)"
   ]
  },
  {
   "cell_type": "code",
   "execution_count": null,
   "id": "9a5220f5",
   "metadata": {},
   "outputs": [],
   "source": [
    "await kamino_lend_program.account[\"Reserve\"].all()"
   ]
  },
  {
   "cell_type": "code",
   "execution_count": null,
   "id": "72503745",
   "metadata": {},
   "outputs": [],
   "source": [
    "obligations = await kamino_lend_program.account[\"Obligation\"].all()"
   ]
  },
  {
   "cell_type": "code",
   "execution_count": null,
   "id": "2e6269a7",
   "metadata": {},
   "outputs": [],
   "source": [
    "print(obligations[0])"
   ]
  },
  {
   "cell_type": "code",
   "execution_count": null,
   "id": "65624efc",
   "metadata": {},
   "outputs": [],
   "source": [
    "lending_markets = await kamino_lend_program.account[\"LendingMarket\"].all(\n",
    "    filters = []\n",
    ")"
   ]
  },
  {
   "cell_type": "code",
   "execution_count": null,
   "id": "a5e1b5f0",
   "metadata": {},
   "outputs": [],
   "source": [
    "client = AsyncClient(os.getenv(\"SOLANARPC_HTTP_URI\"))"
   ]
  },
  {
   "cell_type": "code",
   "execution_count": null,
   "id": "72f13456",
   "metadata": {},
   "outputs": [],
   "source": [
    "data = await client.get_account_info_json_parsed(\n",
    "    Pubkey.from_string(\"Hy2S5arXGFgsvze47PCgSjF92ZQCiAfUJnFkqZQMXu4T\")\n",
    ")\n",
    "dec = Reserve.layout.parse(data.value.data[ACCOUNT_DISCRIMINATOR_SIZE:])"
   ]
  },
  {
   "cell_type": "code",
   "execution_count": null,
   "id": "d20c0e07",
   "metadata": {},
   "outputs": [],
   "source": [
    "dec.config"
   ]
  },
  {
   "cell_type": "code",
   "execution_count": null,
   "id": "5f79633d",
   "metadata": {},
   "outputs": [],
   "source": [
    "data = json.loads(data.to_json())"
   ]
  },
  {
   "cell_type": "code",
   "execution_count": null,
   "id": "1c05e280",
   "metadata": {},
   "outputs": [],
   "source": [
    "dec = LendingMarket.layout.parse(data.value.data[ACCOUNT_DISCRIMINATOR_SIZE:])"
   ]
  },
  {
   "cell_type": "code",
   "execution_count": null,
   "id": "3d9c468c",
   "metadata": {},
   "outputs": [],
   "source": [
    "dec"
   ]
  },
  {
   "cell_type": "code",
   "execution_count": null,
   "metadata": {},
   "outputs": [],
   "source": []
  },
  {
   "cell_type": "code",
   "execution_count": null,
   "id": "cc67e3bc",
   "metadata": {},
   "outputs": [],
   "source": [
    "decoded_bytes = base64.b64decode(data['result']['value']['data'][0])\n",
    "fir_8 = decoded_bytes[:8]\n",
    "rep = fir_8.hex()\n",
    "print(rep)"
   ]
  },
  {
   "cell_type": "code",
   "execution_count": null,
   "id": "8ee5d4c8",
   "metadata": {},
   "outputs": [],
   "source": [
    "bytes.fromhex(rep)"
   ]
  },
  {
   "cell_type": "code",
   "execution_count": null,
   "id": "6182c74b",
   "metadata": {},
   "outputs": [],
   "source": [
    "len(rep)"
   ]
  },
  {
   "cell_type": "code",
   "execution_count": null,
   "id": "0141fb24",
   "metadata": {},
   "outputs": [],
   "source": [
    "bytes.fromhex(\"5ae6f30c297b461d\")"
   ]
  },
  {
   "cell_type": "code",
   "execution_count": null,
   "id": "f38aec42",
   "metadata": {},
   "outputs": [],
   "source": [
    "Reserve.discriminator.hex()"
   ]
  },
  {
   "cell_type": "code",
   "execution_count": null,
   "id": "5ef72665",
   "metadata": {},
   "outputs": [],
   "source": [
    "data['result']['value']['data']"
   ]
  },
  {
   "cell_type": "code",
   "execution_count": null,
   "id": "6512885f",
   "metadata": {},
   "outputs": [],
   "source": [
    "reserves = await kamino_lend_program.account[\"Reserve\"].all(\n",
    "    filters = [RESERVE_SIZE, MemcmpOpts(0, Reserve.discriminator)]\n",
    ")"
   ]
  },
  {
   "cell_type": "code",
   "execution_count": null,
   "id": "17444338",
   "metadata": {},
   "outputs": [],
   "source": []
  },
  {
   "cell_type": "code",
   "execution_count": null,
   "id": "a6939666",
   "metadata": {},
   "outputs": [],
   "source": [
    "Reserve.discriminator.hex()\n"
   ]
  },
  {
   "cell_type": "code",
   "execution_count": null,
   "id": "fa6ff103",
   "metadata": {},
   "outputs": [],
   "source": [
    "Obligation.discriminator.hex()"
   ]
  },
  {
   "cell_type": "code",
   "execution_count": null,
   "id": "2c699f8e",
   "metadata": {},
   "outputs": [],
   "source": [
    "elevation_groups"
   ]
  },
  {
   "cell_type": "code",
   "execution_count": null,
   "id": "0d3b187e",
   "metadata": {},
   "outputs": [],
   "source": [
    "from pprint import pprint as print\n",
    "print('')\n",
    "#\n",
    "print(reserves_configs['J1toso1uCk3RLmjorhTtrVwY9HJ7X8V9yYac6Y7kGCPn']['account']['config'].keys())"
   ]
  },
  {
   "cell_type": "code",
   "execution_count": null,
   "id": "d2566042",
   "metadata": {},
   "outputs": [],
   "source": [
    "elevation_groups"
   ]
  },
  {
   "cell_type": "code",
   "execution_count": null,
   "id": "e206934a-0f05-4062-a255-d25913b9d5bd",
   "metadata": {
    "tags": []
   },
   "outputs": [],
   "source": [
    "mint_to_str_map, str_to_mint_map = await get_scope_mints_to_str_map()"
   ]
  },
  {
   "cell_type": "code",
   "execution_count": null,
   "id": "ae8ce125-2efa-441a-ab8f-3692c5a126e5",
   "metadata": {},
   "outputs": [],
   "source": [
    "# token reserve tickers in this market\n",
    "[mint_to_str_map[k] for k in reserves_configs.keys()]"
   ]
  },
  {
   "cell_type": "code",
   "execution_count": null,
   "id": "d99a3caf-3515-46da-8e17-20300746775f",
   "metadata": {
    "tags": []
   },
   "outputs": [],
   "source": [
    "# token reserve tickers in this market which are shown in UI (status == 0)\n",
    "reserves_configs_keys_ui = {\n",
    "    k: r\n",
    "    for k, r in reserves_configs.items()\n",
    "    if r[\"account\"][\"config\"][\"status\"] == 0\n",
    "}\n",
    "\n",
    "[mint_to_str_map[k] for k in reserves_configs_keys_ui.keys()]"
   ]
  },
  {
   "cell_type": "code",
   "execution_count": null,
   "id": "a12ea88d-a16d-46b0-b39e-3f7e49398c91",
   "metadata": {
    "tags": []
   },
   "outputs": [],
   "source": [
    "# view key cols\n",
    "loan_metrics_df_copy = loan_metrics_df.copy()\n",
    "cols = [\n",
    "    \"owner\",\n",
    "    \"elevation_group\",\n",
    "    \"current_ltv\",\n",
    "    \"max_ltv\",\n",
    "    \"unhealthy_ltv\",\n",
    "    \"dist_to_liq\",\n",
    "    \"total_deposit_usd\",\n",
    "    \"total_borrow_usd\",\n",
    "    \"net_value\",\n",
    "]\n",
    "loan_metrics_df_copy = loan_metrics_df_copy[cols]\n",
    "loan_metrics_df_copy = loan_metrics_df_copy[loan_metrics_df_copy.total_borrow_usd > 0.0]\n",
    "loan_metrics_df_copy.sort_values(by='dist_to_liq', ascending=True, inplace=True)\n",
    "loan_metrics_df_copy.head(5)"
   ]
  },
  {
   "cell_type": "code",
   "execution_count": null,
   "id": "35341b62-814e-4301-bd6e-9aa36d531aab",
   "metadata": {
    "tags": []
   },
   "outputs": [],
   "source": [
    "# get IR curves\n",
    "interest_rates = {}\n",
    "for token in reserves_configs.keys():\n",
    "    (\n",
    "        df_interpolated,\n",
    "        borrow_curve_df,\n",
    "        current_util,\n",
    "        current_borrow_rate,\n",
    "        current_borrow_rate_apy,\n",
    "        current_supply_rate,\n",
    "        current_supply_rate_apy,\n",
    "    ) = get_ir_curve(reserves_configs, token)\n",
    "    interest_rates[token] = {\n",
    "        \"df_interpolated\": df_interpolated,\n",
    "        \"borrow_curve_df\": borrow_curve_df,\n",
    "        \"current_util\": current_util,\n",
    "        \"current_borrow_rate\": current_borrow_rate,\n",
    "        \"current_borrow_rate_apy\": current_borrow_rate_apy,\n",
    "        \"current_supply_rate\": current_supply_rate,\n",
    "        \"current_supply_rate_apy\": current_supply_rate_apy,\n",
    "    }\n",
    "interest_rates.keys()"
   ]
  },
  {
   "cell_type": "code",
   "execution_count": null,
   "id": "dd6724ec-8217-47b9-8059-cc857179e56e",
   "metadata": {
    "tags": []
   },
   "outputs": [],
   "source": [
    "interest_rates['EPjFWdd5AufqSSqeM2qN1xzybapC8G4wEGGkZwyTDt1v']['borrow_curve_df']"
   ]
  },
  {
   "cell_type": "code",
   "execution_count": null,
   "id": "fdf77e0b-486e-4a5f-8477-a2a93cd4262e",
   "metadata": {},
   "outputs": [],
   "source": []
  }
 ],
 "metadata": {
  "kernelspec": {
   "display_name": "Python 3 (ipykernel)",
   "language": "python",
   "name": "python3"
  },
  "language_info": {
   "codemirror_mode": {
    "name": "ipython",
    "version": 3
   },
   "file_extension": ".py",
   "mimetype": "text/x-python",
   "name": "python",
   "nbconvert_exporter": "python",
   "pygments_lexer": "ipython3",
   "version": "3.12.4"
  }
 },
 "nbformat": 4,
 "nbformat_minor": 5
}
